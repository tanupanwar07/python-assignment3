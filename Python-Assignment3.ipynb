{
 "cells": [
  {
   "cell_type": "markdown",
   "id": "f40d0e1e",
   "metadata": {},
   "source": [
    "**1. *Why are functions advantageous to have in your programs*?**\n",
    "   \n",
    "   A function is a set of code that performs a specified task. \n",
    "   Once a function is defined, we can call it again and again for the      same task to be done. \n",
    "   'Code Reusibility' is the most important feature of a function.\n"
   ]
  },
  {
   "cell_type": "markdown",
   "id": "cb70fd4e",
   "metadata": {},
   "source": [
    "**2.*When does the code in a function run: when it's specified or when it's called*?**  \n",
    "  \n",
    "  The code in a function runs upon calling it.  \n",
    "   It is specified at the beginning of code and called afterwards.\n",
    "\n",
    "   \n",
    "  \n",
    "   "
   ]
  },
  {
   "cell_type": "markdown",
   "id": "b3958307",
   "metadata": {},
   "source": [
    "**3.*What statement cretaes a function*?**  \n",
    "    \n",
    "    The def statement creates a function.  \n",
    "    \n",
    "         def function_name(args):\n",
    "    "
   ]
  },
  {
   "cell_type": "markdown",
   "id": "2a09373c",
   "metadata": {},
   "source": [
    "**4. *What is the difference between a function and a function call*?**  \n",
    "    \n",
    "    A function is a def statements along with the lines of code  \n",
    "    comes under it while a function call is that which evaluates\n",
    "    the return value."
   ]
  },
  {
   "cell_type": "markdown",
   "id": "a5588326",
   "metadata": {},
   "source": [
    "**6. *What happens to variables in a local scope when the function call returns*?**   \n",
    "\n",
    "     Local variables are destroyed after function completes.\n",
    "     "
   ]
  },
  {
   "cell_type": "markdown",
   "id": "a3b47346",
   "metadata": {},
   "source": [
    "**7. *What is the concept of a return value? Is it possible to have a return value in an expression*?**\n",
    "  \n",
    "  The value that is returned on calling a function is return value.   Yes, it is possible to have return value in any kind of expression.\n",
    "    \n",
    "    "
   ]
  },
  {
   "cell_type": "code",
   "execution_count": 28,
   "id": "42944720",
   "metadata": {},
   "outputs": [],
   "source": [
    "def f():\n",
    "    a=3\n",
    "    b=0\n",
    "    return a+b   # we have an expression 'a+b'"
   ]
  },
  {
   "cell_type": "code",
   "execution_count": 29,
   "id": "67cfe16c",
   "metadata": {},
   "outputs": [
    {
     "data": {
      "text/plain": [
       "3"
      ]
     },
     "execution_count": 29,
     "metadata": {},
     "output_type": "execute_result"
    }
   ],
   "source": [
    "f()"
   ]
  },
  {
   "cell_type": "markdown",
   "id": "5944f0e1",
   "metadata": {},
   "source": [
    "**8.*If a function does not have a return statement, what is the return value of a call to that function*?**\n",
    "    \n",
    "   None\n",
    "  \n",
    "  \n",
    "  "
   ]
  },
  {
   "cell_type": "markdown",
   "id": "63babebc",
   "metadata": {},
   "source": [
    "**9.*How do you make a function variable refer to the global variable*?**  \n",
    "  \n",
    "  By using the keyword 'global' the before variable name."
   ]
  },
  {
   "cell_type": "markdown",
   "id": "78d151f1",
   "metadata": {},
   "source": [
    "**10.*What is the data type of None*?**\n",
    "    \n",
    "    NoneType\n",
    "  \n",
    "   "
   ]
  },
  {
   "cell_type": "markdown",
   "id": "86e3d237",
   "metadata": {},
   "source": [
    "**11.*What does the sentence import areallyourpetsnamederic do*?**\n",
    "  \n",
    "  imports a module with name 'areallyourpetsnamederic'."
   ]
  },
  {
   "cell_type": "markdown",
   "id": "ea21cfd8",
   "metadata": {},
   "source": [
    "**12.*If you had a bacon() feature in a spam module, what would you call it after importing spam*?**\n",
    "  \n",
    "  import spam      \n",
    "  \n",
    "  spam.bacon()        "
   ]
  },
  {
   "cell_type": "markdown",
   "id": "92e7045e",
   "metadata": {},
   "source": [
    "**13.*What can you do to save a programme from crashing if it encounters an error*?**  \n",
    "   \n",
    "   Use exception handling.  \n",
    "   \n",
    "   try:   \n",
    "   \n",
    "      code here  \n",
    "      \n",
    "   except:  \n",
    "   \n",
    "       print(something)\n",
    "   "
   ]
  },
  {
   "cell_type": "markdown",
   "id": "584325f6",
   "metadata": {},
   "source": [
    "**14.*What is the purpose of the try clause? What is the purpose of the except clause*?**  \n",
    "   \n",
    "   The try block checks if the code contains error.\n",
    "   The except block handles the error. \n",
    "    "
   ]
  },
  {
   "cell_type": "code",
   "execution_count": null,
   "id": "ff4cf79e",
   "metadata": {},
   "outputs": [],
   "source": []
  }
 ],
 "metadata": {
  "kernelspec": {
   "display_name": "Python 3 (ipykernel)",
   "language": "python",
   "name": "python3"
  },
  "language_info": {
   "codemirror_mode": {
    "name": "ipython",
    "version": 3
   },
   "file_extension": ".py",
   "mimetype": "text/x-python",
   "name": "python",
   "nbconvert_exporter": "python",
   "pygments_lexer": "ipython3",
   "version": "3.9.12"
  }
 },
 "nbformat": 4,
 "nbformat_minor": 5
}
